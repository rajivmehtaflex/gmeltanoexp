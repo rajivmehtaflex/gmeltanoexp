{
 "cells": [
  {
   "cell_type": "code",
   "execution_count": null,
   "metadata": {},
   "outputs": [],
   "source": [
    "import os\n",
    "import sys\n",
    "import yaml"
   ]
  },
  {
   "cell_type": "code",
   "execution_count": null,
   "metadata": {},
   "outputs": [],
   "source": [
    "with open(\"/workspace/gmeltanoexp/checkfordbtandairflow/meltano.yml\", 'r') as stream:\n",
    "    data_loaded = yaml.safe_load(stream)"
   ]
  },
  {
   "cell_type": "code",
   "execution_count": null,
   "metadata": {},
   "outputs": [],
   "source": [
    "data_loaded['plugins']['extractors'][0]['config']['files'][0]['file']='extract/values_fake.csv'\n",
    "with open('meltano.yml', 'w') as outfile:\n",
    "    yaml.dump(data_loaded, outfile, default_flow_style=False)    \n",
    "# !mv /workspace/gmeltanoexp/checkfordbtandairflow/extract/values_sample.csv /workspace/gmeltanoexp/checkfordbtandairflow/extract/values_fake.csv    \n",
    "!meltano run tap-csv target-jsonl"
   ]
  },
  {
   "cell_type": "code",
   "execution_count": 23,
   "metadata": {},
   "outputs": [],
   "source": [
    "with open(\"/workspace/gmeltanoexp/checkfordbtandairflow/sample.yml\", 'r') as stream:\n",
    "    data_loaded = yaml.safe_load(stream)"
   ]
  },
  {
   "cell_type": "code",
   "execution_count": 31,
   "metadata": {},
   "outputs": [],
   "source": [
    "data_loaded['plugins']['extractors'][0]['config']['files'].append({'entity': 'loan', 'path': 'data/payments.csv', 'keys': ['id']})"
   ]
  },
  {
   "cell_type": "code",
   "execution_count": 32,
   "metadata": {},
   "outputs": [
    {
     "data": {
      "text/plain": [
       "[{'entity': 'customers', 'path': 'data/customers.csv', 'keys': ['id']},\n",
       " {'entity': 'orders', 'path': 'data/orders.csv', 'keys': ['id']},\n",
       " {'entity': 'payments', 'path': 'data/payments.csv', 'keys': ['id']},\n",
       " {'entity': 'loan', 'path': 'data/payments.csv', 'keys': ['id']}]"
      ]
     },
     "execution_count": 32,
     "metadata": {},
     "output_type": "execute_result"
    }
   ],
   "source": [
    "data_loaded['plugins']['extractors'][0]['config']['files']"
   ]
  },
  {
   "cell_type": "code",
   "execution_count": null,
   "metadata": {},
   "outputs": [],
   "source": []
  },
  {
   "cell_type": "code",
   "execution_count": null,
   "metadata": {},
   "outputs": [],
   "source": []
  },
  {
   "cell_type": "code",
   "execution_count": null,
   "metadata": {},
   "outputs": [],
   "source": []
  }
 ],
 "metadata": {
  "kernelspec": {
   "display_name": "gmeltanoexp-YVgepn_c-py3.8",
   "language": "python",
   "name": "python3"
  },
  "language_info": {
   "codemirror_mode": {
    "name": "ipython",
    "version": 3
   },
   "file_extension": ".py",
   "mimetype": "text/x-python",
   "name": "python",
   "nbconvert_exporter": "python",
   "pygments_lexer": "ipython3",
   "version": "3.8.16"
  },
  "orig_nbformat": 4,
  "vscode": {
   "interpreter": {
    "hash": "f9ba78b8554daece80bd7ae81c6dc73f83914650bebd50db2ea18e2179d208f9"
   }
  }
 },
 "nbformat": 4,
 "nbformat_minor": 2
}
